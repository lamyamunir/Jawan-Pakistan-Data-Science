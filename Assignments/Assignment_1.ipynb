{
  "cells": [
    {
      "cell_type": "markdown",
      "id": "3e069e6c",
      "metadata": {
        "id": "3e069e6c"
      },
      "source": [
        "# Name:  *Lamya Munir*"
      ]
    },
    {
      "cell_type": "markdown",
      "id": "5ed6d0ca",
      "metadata": {
        "id": "5ed6d0ca"
      },
      "source": [
        "# 1"
      ]
    },
    {
      "cell_type": "code",
      "execution_count": null,
      "id": "c1aadcb3",
      "metadata": {
        "id": "c1aadcb3",
        "outputId": "b824fdc9-b5df-4e04-ed86-68c95bc80775"
      },
      "outputs": [
        {
          "name": "stdout",
          "output_type": "stream",
          "text": [
            "Twinkle, twinkle, little star,\n",
            "\tHow I wonder what you are!\n",
            "\t\tUp above the world so high,\n",
            "\t\tLike a diamond in the sky.\n",
            "Twinkle, twinkle, little star,\n",
            "\tHow I wonder what you are!\n"
          ]
        }
      ],
      "source": [
        "print('Twinkle, twinkle, little star,')\n",
        "print('\\tHow I wonder what you are!')\n",
        "print('\\t\\tUp above the world so high,')\n",
        "print('\\t\\tLike a diamond in the sky.')\n",
        "print('Twinkle, twinkle, little star,')\n",
        "print('\\tHow I wonder what you are!')"
      ]
    },
    {
      "cell_type": "markdown",
      "id": "4a77d511",
      "metadata": {
        "id": "4a77d511"
      },
      "source": [
        "# 2"
      ]
    },
    {
      "cell_type": "code",
      "execution_count": null,
      "id": "7da5322f",
      "metadata": {
        "id": "7da5322f",
        "outputId": "d2b6699d-bf00-43e6-95ed-2436181c3817"
      },
      "outputs": [
        {
          "name": "stdout",
          "output_type": "stream",
          "text": [
            "3.8.8\n"
          ]
        }
      ],
      "source": [
        "from platform import python_version as version\n",
        "print(version())"
      ]
    },
    {
      "cell_type": "markdown",
      "id": "bbb30a1f",
      "metadata": {
        "id": "bbb30a1f"
      },
      "source": [
        "# 3"
      ]
    },
    {
      "cell_type": "code",
      "execution_count": null,
      "id": "cc9bdfe4",
      "metadata": {
        "id": "cc9bdfe4",
        "outputId": "7f1d526f-7839-400a-a3bf-d26b650ed54c"
      },
      "outputs": [
        {
          "name": "stdout",
          "output_type": "stream",
          "text": [
            "Current Data and Time :  2021-12-31 14:33:52\n"
          ]
        }
      ],
      "source": [
        "import datetime\n",
        "now = datetime.datetime.now()\n",
        "print (\"Current Data and Time : \", now.strftime(\"%Y-%m-%d %H:%M:%S\"))"
      ]
    },
    {
      "cell_type": "markdown",
      "id": "94c54cd2",
      "metadata": {
        "id": "94c54cd2"
      },
      "source": [
        "# 4. Area of circle"
      ]
    },
    {
      "cell_type": "code",
      "execution_count": null,
      "id": "521637f8",
      "metadata": {
        "id": "521637f8",
        "outputId": "7fce2794-088a-4606-877d-052b81cbffc5"
      },
      "outputs": [
        {
          "name": "stdout",
          "output_type": "stream",
          "text": [
            "Enter Radius: 3\n",
            "Area of Circle:  28.26\n"
          ]
        }
      ],
      "source": [
        "radius = int(input('Enter Radius: '))\n",
        "print('Area of Circle: ',3.14*radius**2)"
      ]
    },
    {
      "cell_type": "markdown",
      "id": "f5afd624",
      "metadata": {
        "id": "f5afd624"
      },
      "source": [
        "# 5. User's First and Last Name"
      ]
    },
    {
      "cell_type": "code",
      "execution_count": 1,
      "id": "a4d40c2f",
      "metadata": {
        "colab": {
          "base_uri": "https://localhost:8080/"
        },
        "id": "a4d40c2f",
        "outputId": "b544c275-7cec-4efe-b869-7940246cd664"
      },
      "outputs": [
        {
          "output_type": "stream",
          "name": "stdout",
          "text": [
            "Enter first name: Lamya\n",
            "Enter second name: Munir\n",
            "aymaL  rinuM\n"
          ]
        }
      ],
      "source": [
        "f_name = input('Enter first name: ')\n",
        "s_name = input('Enter second name: ')\n",
        "\n",
        "print(f_name[::-1],'',s_name[::-1])"
      ]
    },
    {
      "cell_type": "markdown",
      "id": "c840ddf5",
      "metadata": {
        "id": "c840ddf5"
      },
      "source": [
        "# 6. Takes two inputs from user and add them"
      ]
    },
    {
      "cell_type": "code",
      "execution_count": null,
      "id": "8eee2c9e",
      "metadata": {
        "id": "8eee2c9e",
        "outputId": "9cc268ac-f0aa-4f07-fd36-598a9b7fedec"
      },
      "outputs": [
        {
          "name": "stdout",
          "output_type": "stream",
          "text": [
            "Enter first number: 3\n",
            "Enter second number: 5\n",
            "Addition:  8\n"
          ]
        }
      ],
      "source": [
        "a = int(input('Enter first number: '))\n",
        "b = int(input('Enter second number: '))\n",
        "c = a+b\n",
        "print('Addition: ',c)"
      ]
    },
    {
      "cell_type": "code",
      "execution_count": null,
      "id": "833f627d",
      "metadata": {
        "id": "833f627d"
      },
      "outputs": [],
      "source": [
        ""
      ]
    }
  ],
  "metadata": {
    "kernelspec": {
      "display_name": "Python 3",
      "language": "python",
      "name": "python3"
    },
    "language_info": {
      "codemirror_mode": {
        "name": "ipython",
        "version": 3
      },
      "file_extension": ".py",
      "mimetype": "text/x-python",
      "name": "python",
      "nbconvert_exporter": "python",
      "pygments_lexer": "ipython3",
      "version": "3.8.8"
    },
    "colab": {
      "name": "Assignment # 1.ipynb",
      "provenance": [],
      "collapsed_sections": []
    }
  },
  "nbformat": 4,
  "nbformat_minor": 5
}