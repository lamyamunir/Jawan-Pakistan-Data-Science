{
 "cells": [
  {
   "cell_type": "markdown",
   "id": "3e069e6c",
   "metadata": {},
   "source": [
    "# Name:  *Lamya Munir*"
   ]
  },
  {
   "cell_type": "markdown",
   "id": "5ed6d0ca",
   "metadata": {},
   "source": [
    "# 1"
   ]
  },
  {
   "cell_type": "code",
   "execution_count": 3,
   "id": "c1aadcb3",
   "metadata": {},
   "outputs": [
    {
     "name": "stdout",
     "output_type": "stream",
     "text": [
      "Twinkle, twinkle, little star,\n",
      "\tHow I wonder what you are!\n",
      "\t\tUp above the world so high,\n",
      "\t\tLike a diamond in the sky.\n",
      "Twinkle, twinkle, little star,\n",
      "\tHow I wonder what you are!\n"
     ]
    }
   ],
   "source": [
    "print('Twinkle, twinkle, little star,')\n",
    "print('\\tHow I wonder what you are!')\n",
    "print('\\t\\tUp above the world so high,')\n",
    "print('\\t\\tLike a diamond in the sky.')\n",
    "print('Twinkle, twinkle, little star,')\n",
    "print('\\tHow I wonder what you are!')"
   ]
  },
  {
   "cell_type": "markdown",
   "id": "4a77d511",
   "metadata": {},
   "source": [
    "# 2"
   ]
  },
  {
   "cell_type": "code",
   "execution_count": 4,
   "id": "7da5322f",
   "metadata": {},
   "outputs": [
    {
     "name": "stdout",
     "output_type": "stream",
     "text": [
      "3.8.8\n"
     ]
    }
   ],
   "source": [
    "from platform import python_version as version\n",
    "print(version())"
   ]
  },
  {
   "cell_type": "markdown",
   "id": "bbb30a1f",
   "metadata": {},
   "source": [
    "# 3"
   ]
  },
  {
   "cell_type": "code",
   "execution_count": 5,
   "id": "cc9bdfe4",
   "metadata": {},
   "outputs": [
    {
     "name": "stdout",
     "output_type": "stream",
     "text": [
      "Current Data and Time :  2021-12-31 14:33:52\n"
     ]
    }
   ],
   "source": [
    "import datetime\n",
    "now = datetime.datetime.now()\n",
    "print (\"Current Data and Time : \", now.strftime(\"%Y-%m-%d %H:%M:%S\"))"
   ]
  },
  {
   "cell_type": "markdown",
   "id": "94c54cd2",
   "metadata": {},
   "source": [
    "# 4. Area of circle"
   ]
  },
  {
   "cell_type": "code",
   "execution_count": 6,
   "id": "521637f8",
   "metadata": {},
   "outputs": [
    {
     "name": "stdout",
     "output_type": "stream",
     "text": [
      "Enter Radius: 3\n",
      "Area of Circle:  28.26\n"
     ]
    }
   ],
   "source": [
    "radius = int(input('Enter Radius: '))\n",
    "print('Area of Circle: ',3.14*radius**2)"
   ]
  },
  {
   "cell_type": "markdown",
   "id": "f5afd624",
   "metadata": {},
   "source": [
    "# 5. user's first and last name"
   ]
  },
  {
   "cell_type": "code",
   "execution_count": 24,
   "id": "a4d40c2f",
   "metadata": {},
   "outputs": [
    {
     "name": "stdout",
     "output_type": "stream",
     "text": [
      "Enter first name: ashar\n",
      "Enter second name: ashfaq\n",
      "rahsa  qafhsa\n"
     ]
    }
   ],
   "source": [
    "f_name = input('Enter first name: ')\n",
    "s_name = input('Enter second name: ')\n",
    "\n",
    "print(f_name[::-1],'',s_name[::-1])"
   ]
  },
  {
   "cell_type": "markdown",
   "id": "c840ddf5",
   "metadata": {},
   "source": [
    "# 6. Takes two inputs from user and add them"
   ]
  },
  {
   "cell_type": "code",
   "execution_count": 9,
   "id": "8eee2c9e",
   "metadata": {},
   "outputs": [
    {
     "name": "stdout",
     "output_type": "stream",
     "text": [
      "Enter first number: 3\n",
      "Enter second number: 5\n",
      "Addition:  8\n"
     ]
    }
   ],
   "source": [
    "a = int(input('Enter first number: '))\n",
    "b = int(input('Enter second number: '))\n",
    "c = a+b\n",
    "print('Addition: ',c)"
   ]
  },
  {
   "cell_type": "code",
   "execution_count": null,
   "id": "833f627d",
   "metadata": {},
   "outputs": [],
   "source": []
  }
 ],
 "metadata": {
  "kernelspec": {
   "display_name": "Python 3",
   "language": "python",
   "name": "python3"
  },
  "language_info": {
   "codemirror_mode": {
    "name": "ipython",
    "version": 3
   },
   "file_extension": ".py",
   "mimetype": "text/x-python",
   "name": "python",
   "nbconvert_exporter": "python",
   "pygments_lexer": "ipython3",
   "version": "3.8.8"
  }
 },
 "nbformat": 4,
 "nbformat_minor": 5
}
